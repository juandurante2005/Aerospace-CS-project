{
 "cells": [
  {
   "cell_type": "code",
   "execution_count": null,
   "metadata": {
    "vscode": {
     "languageId": "python"
    }
   },
   "outputs": [],
   "source": [
    "class LiftFinder():\n",
    "    b = 0\n",
    "    PI = 3.1415926536\n",
    "    v_infinity = 0\n",
    "    rho = 0\n",
    "    c(x) = 0\n",
    "    alphaL0(x) = 0\n",
    "    alpha(x) = 0\n",
    "    N = 0\n",
    "    x_axis_reference = []\n",
    "    lift_vector = []\n",
    "    total_lift = 0\n",
    "    lift_coeff = 0\n",
    "    \n",
    "    def __init__(self,wing_info):\n",
    "        self.b = wing_info[0]\n",
    "        self.v_infinity = wing_info[1]\n",
    "        self.rho = wing_info[2]\n",
    "        self.c = SR(wing_info[3].replace(\"pi\", str(self.PI)))\n",
    "        self.alphaL0 = SR(wing_info[4].replace(\"pi\", str(self.PI)))\n",
    "        self.alpha = SR(wing_info[5].replace(\"pi\", str(self.PI)))\n",
    "        self.N = int(wing_info[6])\n",
    "        LiftFinder.get_lift(self)\n",
    "        \n",
    "\n",
    "\n",
    "    def five_fifty_one(self):\n",
    "        x = var(\"x\")\n",
    "        N = self.N\n",
    "        alpha = self.alpha\n",
    "        alphaL0 = self.alphaL0\n",
    "        pi = self.PI\n",
    "        b = self.b\n",
    "        c = self.c\n",
    "        rhs_vector = [0 for i in range(N)]\n",
    "        eqParts = [[0 for i in range(N)] for i in range(N)]\n",
    "        #The last column is the RHS, alpha(theta) - alphaL0(theta)\n",
    "        for row in range(0, N):\n",
    "            theta = pi * (row + 1)/(N+1) # This gets N non-zero thetas evenly distributed, using pi * row / N would have zero as the first value\n",
    "            rhs_vector[row] = [alpha(x=theta) - alphaL0(x=theta)] # assign last column\n",
    "            \n",
    "            for col in range(0, N):\n",
    "                n = col + 1\n",
    "                eqParts[row][col] = (2 * b * sin(n * theta)) / (pi * c(x=theta)) + (n * sin(n * theta)) / sin(theta)\n",
    "\n",
    "        an_vector = matrix(eqParts).solve_right(matrix(rhs_vector))\n",
    "        return an_vector\n",
    "\n",
    "\n",
    "    def gamma(self):\n",
    "        pi = self.PI\n",
    "        N = self.N\n",
    "        alpha = self.alpha\n",
    "        b = self.b\n",
    "        v_infinity = self.v_infinity\n",
    "        \n",
    "        an_vector = LiftFinder.five_fifty_one(self)\n",
    "        gamma_per_theta = [0 for i in range(0, N)]\n",
    "        for theta_lcv in range(0, N):\n",
    "            sum = 0\n",
    "            theta = pi * (theta_lcv + 1) / (N + 1)\n",
    "            for i in range(0, N): #i is the loop control variable, n is what we're using in the actual sum\n",
    "                n = i + 1\n",
    "                sum = sum + an_vector[i][0] * sin(n * theta)\n",
    "            gamma_per_theta[theta_lcv] = sum * 2 * b * v_infinity\n",
    "        return gamma_per_theta\n",
    "\n",
    "\n",
    "    def lift_finder(self):\n",
    "        gamma_per_theta = LiftFinder.gamma(self)\n",
    "        rho = self.rho\n",
    "        v_infinity = self.v_infinity\n",
    "        lift_vector = []\n",
    "        for value in gamma_per_theta:\n",
    "            lift_vector.append(rho * v_infinity * (value))\n",
    "        self.lift_vector = LiftFinder.full_lift_vector(self, lift_vector)\n",
    "        self.x_axis_reference = LiftFinder.generate_x_axis(self)\n",
    "\n",
    "\n",
    "    def get_lift(self):\n",
    "        #Calculates total lift using a middle reimann sum\n",
    "        LiftFinder.lift_finder(self)\n",
    "        N = self.N\n",
    "        full_lift_vector = self.lift_vector\n",
    "        x_axis_reference = self.x_axis_reference\n",
    "        \n",
    "        \n",
    "        total = 0\n",
    "        for index in range(N + 1):\n",
    "            delta_x = abs(x_axis_reference[index] - x_axis_reference[index + 1])\n",
    "            avg = (full_lift_vector[index] + full_lift_vector[index + 1]) / 2\n",
    "            total = total + delta_x * avg\n",
    "        self.total_lift = total\n",
    "        LiftFinder.lift_coefficient(self)\n",
    "        return total\n",
    "\n",
    "    \n",
    "    def get_zipped_lists(self):\n",
    "       return list(zip(self.x_axis_reference, self.lift_vector))\n",
    "   \n",
    "\n",
    "    def get_x_axis_reference(self):\n",
    "        return self.x_axis_reference\n",
    "    def get_lift_vector(self):\n",
    "        return self.lift_vector\n",
    "    def get_total_lift(self):\n",
    "        return self.total_lift\n",
    "    \n",
    "    # Some helper methods\n",
    "    def generate_x_axis(self):\n",
    "        pi = self.PI\n",
    "        N = self.N\n",
    "        b = self.b\n",
    "        \n",
    "        x_axis_reference = [- b / 2]\n",
    "        for n in range(0, N):\n",
    "            theta = pi * (n + 1)/(N+1)\n",
    "            x_axis_reference.append(-b/2*(cos(theta)))\n",
    "\n",
    "        x_axis_reference.append(b/2)\n",
    "        return x_axis_reference\n",
    "    \n",
    "\n",
    "    def full_lift_vector(self, lift_vector):\n",
    "    #Adds the initial and final 0 of the lift vector for graphing purposes\n",
    "        lift_per_y = [0]\n",
    "\n",
    "        for value in lift_vector:\n",
    "            lift_per_y.append(value)\n",
    "        lift_per_y.append(0)\n",
    "        \n",
    "        return lift_per_y\n",
    "    \n",
    "    def lift_coefficient(self):\n",
    "        rho = self.rho\n",
    "        v_infinity = self.v_infinity\n",
    "        b = self.b\n",
    "        c = self.c\n",
    "        total_lift = self.total_lift\n",
    "        \n",
    "        dynamic_pressure = 1/2 * rho * v_infinity ^ 2\n",
    "        s = b * average_value(c)\n",
    "        self.lift_coeff = ((total_lift) / (dynamic_pressure * s))\n",
    "        \n",
    "    def get_lift_coefficient(self):\n",
    "        return self.lift_coeff\n",
    "\n",
    "\n",
    "\n",
    "def average_value(func):\n",
    "    #Helper method for finding the lift coefficient\n",
    "    x = var(\"x\")\n",
    "    vals = [i * pi / 101. for i in range(102)]\n",
    "    func = SR(func)\n",
    "    sum = 0\n",
    "    for i in vals:\n",
    "        sum = sum + func(x=i)\n",
    "    return sum / len(vals)"
   ]
  },
  {
   "cell_type": "code",
   "execution_count": 2,
   "metadata": {
    "vscode": {
     "languageId": "python"
    }
   },
   "outputs": [
    {
     "name": "stdout",
     "output_type": "stream",
     "text": [
      "Total lift for wing 0 = 20021.8284407485\n",
      "Lift coefficient: 0.261509595960797\n",
      "b: 10\n",
      "v_infinity: 50\n",
      "rho: 1.22500000000000\n",
      "c(theta): 5\n",
      "alphaL0(theta): 0\n",
      "alpha(theta): 5 * pi/180\n",
      "N: 10\n"
     ]
    },
    {
     "data": {
      "image/png": "[encoded data removed]",
      "text/plain": [
       "Graphics object consisting of 2 graphics primitives"
      ]
     },
     "metadata": {},
     "output_type": "display_data"
    }
   ],
   "source": [
    "#wing_info format:\n",
    "#[b, v_infinity, rho, \"c(x)\", \"alphaL0(x)\", \"alpha(x)\", N]\n",
    "ref = [\"b\", \"v_infinity\", \"rho\", \"c(theta)\", \"alphaL0(theta)\", \"alpha(theta)\", \"N\"]\n",
    "wings = [[10, 50, 1.225, \"5\", \"0\", \"5 * pi/180\", 10]]\n",
    "color_list = [\"blue\", 'green', 'red', 'cyan', 'magenta', 'yellow', 'black']\n",
    "totalplots = plot(0)\n",
    "index = 0\n",
    "for wing_info in wings:    \n",
    "    vec = LiftFinder(wing_info)\n",
    "    print(\"Total lift for wing \" + str(index) + \" = \" + str(vec.get_total_lift()))\n",
    "    totalplots = totalplots + list_plot(vec.get_zipped_lists(), legend_label=(\"Wing \" + str(index)), color=color_list[index % 7], plotjoined = True)\n",
    "    dynamic_pressure = 1/2 * wing_info[2] * wing_info[1] ^ 2\n",
    "    s = wing_info[0] * average_value(wing_info[3])\n",
    "    print(\"Lift coefficient: \" + str((vec.get_total_lift()) / (dynamic_pressure * s)))\n",
    "    index = index + 1\n",
    "    for i in range(0, len(ref)):\n",
    "        print(ref[i] + \": \" + str(wing_info[i]))\n",
    "    \n",
    "totalplots.axes_labels([\"Displacement\", \"Lift\"])\n",
    "totalplots.show()\n",
    "#vec.lift_finder()\n",
    "# x_ax = vec.get_x_axis_reference\n",
    "# y_ax = vec.get_lift_vector\n",
    "#list_plot(list(zip(x_ax, y_ax)), axes_labels = [\"Displacement\", \"Lift\"] )"
   ]
  },
  {
   "cell_type": "code",
   "execution_count": 3,
   "metadata": {
    "vscode": {
     "languageId": "python"
    }
   },
   "outputs": [
    {
     "name": "stdout",
     "output_type": "stream",
     "text": [
      "b: 10\n",
      "v_infinity: 50\n",
      "rho: 1.22500000000000\n",
      "c(theta): 5\n",
      "alphaL0(theta): 0\n",
      "alpha(theta): 10 * pi/180\n",
      "N: 10\n"
     ]
    },
    {
     "data": {
      "image/png": "[encoded data removed]",
      "text/plain": [
       "Graphics object consisting of 2 graphics primitives"
      ]
     },
     "metadata": {},
     "output_type": "display_data"
    }
   ],
   "source": [
    "#Calculation of lift coefficient for varying alpha\n",
    "#[b, v_infinity, rho, \"c(x)\", \"alphaL0(x)\", \"alpha(x)\", N]\n",
    "x_axis = [i for i in range(0, 11)]\n",
    "coefficients = []\n",
    "for alpha in range(0, 11):\n",
    "    wing_info = [10, 50, 1.225, \"5\", \"0\", str(alpha) + \" * pi/180\", 10]\n",
    "    vec = LiftFinder(wing_info)\n",
    "    dynamic_pressure = 1/2 * wing_info[2] * wing_info[1] ^ 2\n",
    "    s = wing_info[0] * average_value(wing_info[3])\n",
    "    coefficients.append((vec.get_total_lift()) / (dynamic_pressure * s))\n",
    "for i in range(0, len(ref)):\n",
    "        print(ref[i] + \": \" + str(wing_info[i]))\n",
    "p1 = list_plot(list(zip(x_axis, coefficients)), plotjoined=True, legend_label=\"Lift for 3D wing\")\n",
    "p2 = plot(2*pi* (x * pi / 180), (0, 11), color=\"red\", legend_label=\"Lift coefficient for 2D airfoil\")\n",
    "p_total = p1 + p2\n",
    "p_total.axes_labels([\"Angle of attack (degrees)\", \"Lift Coefficient\"])\n",
    "\n",
    "\n",
    "p_total.show()"
   ]
  },
  {
   "cell_type": "markdown",
   "metadata": {},
   "source": [
    "### Calculations for a Cessna 172"
   ]
  },
  {
   "cell_type": "code",
   "execution_count": 4,
   "metadata": {
    "vscode": {
     "languageId": "python"
    }
   },
   "outputs": [],
   "source": [
    "# Lift with respect to angle of attack [-10, 10 deg] for V = 75, 100, 125, 150 mph\n",
    "#                                                            33.528, 44.704, 55.88, 67.056 m/s\n",
    "# Wingspan = 10.9728 m\n",
    "# Avg chord length = 1.472 m\n",
    "# Cruising altitude of 9500 ft = 2895.6 m\n",
    "#[b, v_infinity, rho, \"c(x)\", \"alphaL0(x)\", \"alpha(x)\", N]\n",
    "#rho = 1.7833 slugs/ft3 = .909122 kg/m3\n",
    "v_infinity = [33.528, 44.704, 55.88, 67.056]\n",
    "alpha = [i for i in range(-10, 11)]\n",
    "N = 50\n",
    "c_plots = []\n",
    "l_plots = []\n",
    "i = 0\n",
    "for v in v_infinity:\n",
    "    coeffs = []\n",
    "    lifts = []\n",
    "    for a in alpha:\n",
    "        wing_info = [10.9728, v, .909122, \"1.472\", \"(-4) * pi / 180\", str(a * pi / 180), N]\n",
    "        vec = LiftFinder(wing_info)\n",
    "        coeffs.append(vec.get_lift_coefficient())\n",
    "        lifts.append(vec.get_total_lift())\n",
    "    c_plots.append(list_plot(list(zip(alpha, coeffs)), plotjoined=True, color=color_list[i % 7],legend_label = \"V = \" + str(round(v,3)) + \" m/s\"))\n",
    "    l_plots.append(list_plot(list(zip(alpha, lifts)), plotjoined=True, color=color_list[i % 7],legend_label = \"V = \" + str(round(v, 3)) + \" m/s\"))\n",
    "    i = i + 1"
   ]
  },
  {
   "cell_type": "code",
   "execution_count": null,
   "metadata": {
    "vscode": {
     "languageId": "python"
    }
   },
   "outputs": [
    {
     "ename": "",
     "evalue": "",
     "output_type": "error",
     "traceback": [
      "\u001b[1;31mFailed to start the Kernel. \n",
      "\u001b[1;31mKernel SageMath 9.5 is not usable. Check the Jupyter output tab for more information. \n",
      "\u001b[1;31mView Jupyter <a href='command:jupyter.viewOutput'>log</a> for further details."
     ]
    }
   ],
   "source": [
    "total_c_plots = plot(0)\n",
    "total_l_plots = plot(0)\n",
    "\n",
    "\n",
    "for p in c_plots:\n",
    "    total_c_plots = total_c_plots + p\n",
    "for p in l_plots:\n",
    "    total_l_plots = total_l_plots + p\n",
    "total_l_plots = total_l_plots + plot(1157 * 9.8, (-10, 10), color = \"orange\",legend_label=\"Maximum weight (N)\") + plot(667 * 9.8, (-10, 10), color=color_list[6],legend_label=\"Basic empty weight (N)\")\n",
    "total_c_plots.axes_labels([\"Angle of attack (degrees)\", \"Lift Coefficient\"])\n",
    "total_l_plots.axes_labels([\"Angle of attack (degrees)\", \"Total Lift\"])\n",
    "    \n",
    "ga = graphics_array(((total_c_plots),( total_l_plots)))\n",
    "ga.show(figsize = [13, 4])"
   ]
  }
 ],
 "metadata": {
  "kernelspec": {
   "display_name": "SageMath 9.5",
   "language": "sage",
   "name": "sagemath"
  },
  "language_info": {
   "codemirror_mode": {
    "name": "ipython",
    "version": 3
   },
   "file_extension": ".py",
   "mimetype": "text/x-python",
   "name": "sage",
   "nbconvert_exporter": "python",
   "pygments_lexer": "ipython3",
   "version": "3.10.6"
  }
 },
 "nbformat": 4,
 "nbformat_minor": 2
}
