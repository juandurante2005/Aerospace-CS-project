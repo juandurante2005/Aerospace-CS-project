{
 "cells": [
  {
   "cell_type": "markdown",
   "id": "5a75c4b7",
   "metadata": {},
   "source": [
    "### Wing geometry variables"
   ]
  },
  {
   "cell_type": "code",
   "execution_count": 7,
   "id": "627de2bb",
   "metadata": {},
   "outputs": [],
   "source": [
    "b = 20\n",
    "pi = 3.1415926536\n",
    "v_infinity = 50\n",
    "rho = 1.2250\n",
    "c(x) = 5\n",
    "alphaL0(x) = 0\n",
    "alpha_no_flaps(x) = 5 * pi / 180\n",
    "alpha_flaps(x) = 15 * pi / 180\n",
    "alpha(x) = piecewise([((0, pi/4), alpha_no_flaps), ((pi/4, 3 * pi/4), alpha_flaps), ((3 * pi/4, pi), alpha_no_flaps)])\n",
    "\n",
    "\n",
    "#Definition of N: the number of USEFUL points being taken into consideration\n",
    "#Theta=0 and theta=pi are ignored, as they yield zero lift"
   ]
  },
  {
   "cell_type": "markdown",
   "id": "cdf0e7c1",
   "metadata": {},
   "source": [
    "### Solve for An's"
   ]
  },
  {
   "cell_type": "code",
   "execution_count": 8,
   "id": "e804ef5b",
   "metadata": {},
   "outputs": [],
   "source": [
    "def five_fifty_one(N, alpha):\n",
    "    rhs_vector = [0 for i in range(N)]\n",
    "    eqParts = [[0 for i in range(N)] for i in range(N)]\n",
    "    #The last column is the RHS, alpha(theta) - alphaL0(theta)\n",
    "    for row in range(0, N):\n",
    "        theta = pi * (row + 1)/(N+1) # This gets N non-zero thetas evenly distributed, using pi * row / N would have zero as the first value\n",
    "        rhs_vector[row] = [alpha(theta) - alphaL0(theta)] # assign last column\n",
    "        \n",
    "        for col in range(0, N):\n",
    "            n = col + 1\n",
    "            eqParts[row][col] = (2 * b * sin(n * theta)) / (pi * c(theta)) + (n * sin(n * theta)) / sin(theta)\n",
    "\n",
    "    an_vector = matrix(eqParts).solve_right(matrix(rhs_vector))\n",
    "    return an_vector"
   ]
  },
  {
   "cell_type": "markdown",
   "id": "e84b128e",
   "metadata": {},
   "source": [
    "### Solve for gamma(theta)"
   ]
  },
  {
   "cell_type": "code",
   "execution_count": 9,
   "id": "856e3cc2",
   "metadata": {},
   "outputs": [],
   "source": [
    "def gamma(N, alpha):\n",
    "    an_vector = five_fifty_one(N, alpha)\n",
    "    gamma_per_theta = [0 for i in range(0, N)]\n",
    "    for theta_lcv in range(0, N):\n",
    "        sum = 0\n",
    "        theta = pi * (theta_lcv + 1) / (N + 1)\n",
    "        for i in range(0, N): #i is the loop control variable, n is what we're using in the actual sum\n",
    "            n = i + 1\n",
    "            sum = sum + an_vector[i] * sin(n * theta)\n",
    "        gamma_per_theta[theta_lcv] = sum * 2 * b * v_infinity\n",
    "    return gamma_per_theta"
   ]
  },
  {
   "cell_type": "markdown",
   "id": "9b14a1b5",
   "metadata": {},
   "source": [
    "### Solve for the lift distribution as a function of theta"
   ]
  },
  {
   "cell_type": "code",
   "execution_count": 10,
   "id": "9cee4f15",
   "metadata": {},
   "outputs": [],
   "source": [
    "def lift_finder(N, alpha):\n",
    "    gamma_per_theta = gamma(N, alpha)\n",
    "    lift_vector = []\n",
    "    for value in gamma_per_theta:\n",
    "        lift_vector.append(rho * v_infinity * abs(value))\n",
    "    return (lift_vector)"
   ]
  },
  {
   "cell_type": "markdown",
   "id": "f2e3871e",
   "metadata": {},
   "source": [
    "### Plot the lift as a function of y"
   ]
  },
  {
   "cell_type": "code",
   "execution_count": 11,
   "id": "e0ab6a28",
   "metadata": {},
   "outputs": [
    {
     "name": "stdout",
     "output_type": "stream",
     "text": [
      "Using N value of: 20\n"
     ]
    },
    {
     "data": {
      "image/png": "[encoded data removed]",
      "text/plain": [
       "Graphics object consisting of 1 graphics primitive"
      ]
     },
     "metadata": {},
     "output_type": "display_data"
    }
   ],
   "source": [
    "N = int(input(\"Enter N here: \"))\n",
    "\n",
    "lift_vector_flaps = lift_finder(N, alpha)\n",
    "#lift_vector_no_flaps = lift_finder(N, alpha_no_flaps)\n",
    "\n",
    "x_axis_reference = generate_x_axis(N)\n",
    "lift_per_y_flaps = generate_y_axis(lift_vector_flaps)\n",
    "#lift_per_y_no_flaps = generate_y_axis(lift_vector_no_flaps)\n",
    "\n",
    "#p2 = list_plot(list(zip(x_axis_reference,lift_per_y_no_flaps)), axes_labels=['Displacement', 'Lift'])\n",
    "p1 = list_plot(list(zip(x_axis_reference,lift_per_y_flaps)), axes_labels=['Displacement', 'Lift'])\n",
    "\n",
    "\n",
    "print(\"Using N value of: \" + str(N))\n",
    "p1.show()    "
   ]
  },
  {
   "cell_type": "code",
   "execution_count": 12,
   "id": "993b8019",
   "metadata": {},
   "outputs": [],
   "source": [
    "# Some helper methods\n",
    "def generate_x_axis(N):\n",
    "    x_axis_reference = [- b / 2]\n",
    "    for n in range(0, N):\n",
    "        theta = pi * (n + 1)/(N+1)\n",
    "        x_axis_reference.append(-b/2*(cos(theta)))\n",
    "\n",
    "    x_axis_reference.append(b/2)\n",
    "    return x_axis_reference\n",
    "def generate_y_axis(lift_vector):\n",
    "    lift_per_y = [0]\n",
    "\n",
    "    for value in lift_vector:\n",
    "        lift_per_y.append(value)\n",
    "    lift_per_y.append(0)\n",
    "    \n",
    "    return lift_per_y"
   ]
  }
 ],
 "metadata": {
  "kernelspec": {
   "display_name": "SageMath 9.5",
   "language": "sage",
   "name": "sagemath"
  },
  "language_info": {
   "codemirror_mode": {
    "name": "ipython",
    "version": 3
   },
   "file_extension": ".py",
   "mimetype": "text/x-python",
   "name": "python",
   "nbconvert_exporter": "python",
   "pygments_lexer": "ipython3",
   "version": "3.10.6"
  }
 },
 "nbformat": 4,
 "nbformat_minor": 5
}
