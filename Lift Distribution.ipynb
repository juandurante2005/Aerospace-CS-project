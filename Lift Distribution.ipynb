{
 "cells": [
  {
   "cell_type": "markdown",
   "id": "5a75c4b7",
   "metadata": {},
   "source": [
    "### Wing geometry variables"
   ]
  },
  {
   "cell_type": "code",
   "execution_count": 1,
   "id": "627de2bb",
   "metadata": {
    "vscode": {
     "languageId": "python"
    }
   },
   "outputs": [],
   "source": [
    "b = 20\n",
    "c(x) = 5\n",
    "alphaL0(x) = 0\n",
    "alpha(x) = 5 * pi / 180\n",
    "pi = 3.1415926536\n",
    "v_infinity = 50\n",
    "rho = 1.2250\n",
    "N = 150\n",
    "#Definition of N: the number of USEFUL points being taken into consideration\n",
    "#Theta=0 and theta=pi are ignored, as they yield zero lift"
   ]
  },
  {
   "cell_type": "markdown",
   "id": "cdf0e7c1",
   "metadata": {},
   "source": [
    "### Solve for An's"
   ]
  },
  {
   "cell_type": "code",
   "execution_count": 2,
   "id": "e804ef5b",
   "metadata": {
    "vscode": {
     "languageId": "python"
    }
   },
   "outputs": [],
   "source": [
    "def five_fifty_one_fixed(N):\n",
    "    rhs_vector = [0 for i in range(N)]\n",
    "    eqParts = [[0 for i in range(N)] for i in range(N)]\n",
    "    #The last column is the RHS, alpha(theta) - alphaL0(theta)\n",
    "    for row in range(0, N):\n",
    "        theta = pi * (row + 1)/(N+1) # This gets N non-zero thetas evenly distributed, using pi * row / N would have zero as the first value\n",
    "        rhs_vector[row] = [alpha(theta) - alphaL0(theta)] # assign last column\n",
    "        \n",
    "        for col in range(0, N):\n",
    "            n = col + 1\n",
    "            eqParts[row][col] = (2 * b * sin(n * theta)) / (pi * c(theta)) + (n * sin(n * theta)) / sin(theta)\n",
    "\n",
    "    an_vector = matrix(eqParts).solve_right(matrix(rhs_vector))\n",
    "    return an_vector"
   ]
  },
  {
   "cell_type": "markdown",
   "id": "e84b128e",
   "metadata": {},
   "source": [
    "### Solve for gamma(theta)"
   ]
  },
  {
   "cell_type": "code",
   "execution_count": 3,
   "id": "856e3cc2",
   "metadata": {
    "vscode": {
     "languageId": "python"
    }
   },
   "outputs": [],
   "source": [
    "def gamma(N):\n",
    "    an_vector = five_fifty_one_fixed(N)\n",
    "    gamma_per_theta = [0 for i in range(0, N)]\n",
    "    \n",
    "    for theta_lcv in range(0, N):\n",
    "        sum = 0\n",
    "        theta = pi * (theta_lcv + 1) / (N + 1)\n",
    "        for i in range(0, N): #i is the loop control variable, n is what we're using in the actual sum\n",
    "            n = i + 1\n",
    "            sum = sum + an_vector[i] * sin(n * theta)\n",
    "        gamma_per_theta[theta_lcv] = sum * 2 * b * v_infinity\n",
    "    return gamma_per_theta"
   ]
  },
  {
   "cell_type": "markdown",
   "id": "9b14a1b5",
   "metadata": {},
   "source": [
    "### Solve for the lift distribution as a function of theta"
   ]
  },
  {
   "cell_type": "code",
   "execution_count": 4,
   "id": "9cee4f15",
   "metadata": {
    "vscode": {
     "languageId": "python"
    }
   },
   "outputs": [],
   "source": [
    "def lift_finder(N):\n",
    "    gamma_per_theta = gamma(N)\n",
    "    lift_vector = []\n",
    "    for value in gamma_per_theta:\n",
    "        lift_vector.append(rho * v_infinity * abs(value))\n",
    "    return (lift_vector)"
   ]
  },
  {
   "cell_type": "markdown",
   "id": "f2e3871e",
   "metadata": {},
   "source": [
    "### Plot the lift as a function of y"
   ]
  },
  {
   "cell_type": "code",
   "execution_count": 5,
   "id": "e0ab6a28",
   "metadata": {
    "vscode": {
     "languageId": "python"
    }
   },
   "outputs": [],
   "source": [
    "lift_per_y = [0]\n",
    "\n",
    "lift_vector = lift_finder(N)\n",
    "\n",
    "for value in lift_vector:\n",
    "    lift_per_y.append(value)\n",
    "lift_per_y.append(0)\n",
    "x_axis_reference = [- b / 2]\n",
    "for n in range(0, N):\n",
    "    theta = pi * (n + 1)/(N+1)\n",
    "    x_axis_reference.append(-b/2*(cos(theta)))\n",
    "\n",
    "x_axis_reference.append(b/2)\n",
    "\n",
    "list_plot(list(zip(x_axis_reference, lift_per_y)), axes_labels=['Displacement', 'Lift'])\n"
   ]
  }
 ],
 "metadata": {
  "kernelspec": {
   "display_name": "SageMath 9.5",
   "language": "sage",
   "name": "sagemath"
  },
  "language_info": {
   "codemirror_mode": {
    "name": "ipython",
    "version": 3
   },
   "file_extension": ".py",
   "mimetype": "text/x-python",
   "name": "sage",
   "nbconvert_exporter": "python",
   "pygments_lexer": "ipython3",
   "version": "3.10.6"
  }
 },
 "nbformat": 4,
 "nbformat_minor": 5
}
